{
  "nbformat": 4,
  "nbformat_minor": 0,
  "metadata": {
    "colab": {
      "provenance": [],
      "collapsed_sections": []
    },
    "kernelspec": {
      "name": "python3",
      "display_name": "Python 3"
    },
    "language_info": {
      "name": "python"
    }
  },
  "cells": [
    {
      "cell_type": "code",
      "source": [
        "# Mounting the google drive for importing the images\n",
        "from google.colab import drive"
      ],
      "metadata": {
        "id": "s0DAQnsE7Dr3"
      },
      "execution_count": null,
      "outputs": []
    },
    {
      "cell_type": "code",
      "source": [
        "!pip install streamlit"
      ],
      "metadata": {
        "colab": {
          "base_uri": "https://localhost:8080/"
        },
        "id": "h9ch1L6M7DvW",
        "outputId": "92cadf16-8f0f-4698-b19d-422fa568d664"
      },
      "execution_count": null,
      "outputs": [
        {
          "output_type": "stream",
          "name": "stdout",
          "text": [
            "Looking in indexes: https://pypi.org/simple, https://us-python.pkg.dev/colab-wheels/public/simple/\n",
            "Collecting streamlit\n",
            "  Downloading streamlit-1.12.2-py2.py3-none-any.whl (9.1 MB)\n",
            "\u001b[K     |████████████████████████████████| 9.1 MB 7.8 MB/s \n",
            "\u001b[?25hCollecting rich>=10.11.0\n",
            "  Downloading rich-12.5.1-py3-none-any.whl (235 kB)\n",
            "\u001b[K     |████████████████████████████████| 235 kB 38.2 MB/s \n",
            "\u001b[?25hCollecting pydeck>=0.1.dev5\n",
            "  Downloading pydeck-0.8.0b1-py2.py3-none-any.whl (4.7 MB)\n",
            "\u001b[K     |████████████████████████████████| 4.7 MB 37.9 MB/s \n",
            "\u001b[?25hRequirement already satisfied: altair>=3.2.0 in /usr/local/lib/python3.7/dist-packages (from streamlit) (4.2.0)\n",
            "Requirement already satisfied: click>=7.0 in /usr/local/lib/python3.7/dist-packages (from streamlit) (7.1.2)\n",
            "Requirement already satisfied: numpy in /usr/local/lib/python3.7/dist-packages (from streamlit) (1.21.6)\n",
            "Collecting semver\n",
            "  Downloading semver-2.13.0-py2.py3-none-any.whl (12 kB)\n",
            "Collecting validators>=0.2\n",
            "  Downloading validators-0.20.0.tar.gz (30 kB)\n",
            "Requirement already satisfied: pyarrow>=4.0 in /usr/local/lib/python3.7/dist-packages (from streamlit) (6.0.1)\n",
            "Requirement already satisfied: requests>=2.4 in /usr/local/lib/python3.7/dist-packages (from streamlit) (2.23.0)\n",
            "Requirement already satisfied: pillow>=6.2.0 in /usr/local/lib/python3.7/dist-packages (from streamlit) (7.1.2)\n",
            "Collecting pympler>=0.9\n",
            "  Downloading Pympler-1.0.1-py3-none-any.whl (164 kB)\n",
            "\u001b[K     |████████████████████████████████| 164 kB 54.7 MB/s \n",
            "\u001b[?25hRequirement already satisfied: importlib-metadata>=1.4 in /usr/local/lib/python3.7/dist-packages (from streamlit) (4.12.0)\n",
            "Requirement already satisfied: pandas>=0.21.0 in /usr/local/lib/python3.7/dist-packages (from streamlit) (1.3.5)\n",
            "Requirement already satisfied: typing-extensions>=3.10.0.0 in /usr/local/lib/python3.7/dist-packages (from streamlit) (4.1.1)\n",
            "Requirement already satisfied: cachetools>=4.0 in /usr/local/lib/python3.7/dist-packages (from streamlit) (4.2.4)\n",
            "Collecting gitpython!=3.1.19\n",
            "  Downloading GitPython-3.1.27-py3-none-any.whl (181 kB)\n",
            "\u001b[K     |████████████████████████████████| 181 kB 52.6 MB/s \n",
            "\u001b[?25hRequirement already satisfied: tzlocal>=1.1 in /usr/local/lib/python3.7/dist-packages (from streamlit) (1.5.1)\n",
            "Collecting blinker>=1.0.0\n",
            "  Downloading blinker-1.5-py2.py3-none-any.whl (12 kB)\n",
            "Requirement already satisfied: packaging>=14.1 in /usr/local/lib/python3.7/dist-packages (from streamlit) (21.3)\n",
            "Requirement already satisfied: toml in /usr/local/lib/python3.7/dist-packages (from streamlit) (0.10.2)\n",
            "Requirement already satisfied: protobuf<4,>=3.12 in /usr/local/lib/python3.7/dist-packages (from streamlit) (3.17.3)\n",
            "Requirement already satisfied: tornado>=5.0 in /usr/local/lib/python3.7/dist-packages (from streamlit) (5.1.1)\n",
            "Requirement already satisfied: python-dateutil in /usr/local/lib/python3.7/dist-packages (from streamlit) (2.8.2)\n",
            "Collecting watchdog\n",
            "  Downloading watchdog-2.1.9-py3-none-manylinux2014_x86_64.whl (78 kB)\n",
            "\u001b[K     |████████████████████████████████| 78 kB 6.5 MB/s \n",
            "\u001b[?25hRequirement already satisfied: entrypoints in /usr/local/lib/python3.7/dist-packages (from altair>=3.2.0->streamlit) (0.4)\n",
            "Requirement already satisfied: jinja2 in /usr/local/lib/python3.7/dist-packages (from altair>=3.2.0->streamlit) (2.11.3)\n",
            "Requirement already satisfied: toolz in /usr/local/lib/python3.7/dist-packages (from altair>=3.2.0->streamlit) (0.12.0)\n",
            "Requirement already satisfied: jsonschema>=3.0 in /usr/local/lib/python3.7/dist-packages (from altair>=3.2.0->streamlit) (4.3.3)\n",
            "Collecting gitdb<5,>=4.0.1\n",
            "  Downloading gitdb-4.0.9-py3-none-any.whl (63 kB)\n",
            "\u001b[K     |████████████████████████████████| 63 kB 1.2 MB/s \n",
            "\u001b[?25hCollecting smmap<6,>=3.0.1\n",
            "  Downloading smmap-5.0.0-py3-none-any.whl (24 kB)\n",
            "Requirement already satisfied: zipp>=0.5 in /usr/local/lib/python3.7/dist-packages (from importlib-metadata>=1.4->streamlit) (3.8.1)\n",
            "Requirement already satisfied: pyrsistent!=0.17.0,!=0.17.1,!=0.17.2,>=0.14.0 in /usr/local/lib/python3.7/dist-packages (from jsonschema>=3.0->altair>=3.2.0->streamlit) (0.18.1)\n",
            "Requirement already satisfied: attrs>=17.4.0 in /usr/local/lib/python3.7/dist-packages (from jsonschema>=3.0->altair>=3.2.0->streamlit) (22.1.0)\n",
            "Requirement already satisfied: importlib-resources>=1.4.0 in /usr/local/lib/python3.7/dist-packages (from jsonschema>=3.0->altair>=3.2.0->streamlit) (5.9.0)\n",
            "Requirement already satisfied: pyparsing!=3.0.5,>=2.0.2 in /usr/local/lib/python3.7/dist-packages (from packaging>=14.1->streamlit) (3.0.9)\n",
            "Requirement already satisfied: pytz>=2017.3 in /usr/local/lib/python3.7/dist-packages (from pandas>=0.21.0->streamlit) (2022.2.1)\n",
            "Requirement already satisfied: six>=1.9 in /usr/local/lib/python3.7/dist-packages (from protobuf<4,>=3.12->streamlit) (1.15.0)\n",
            "Requirement already satisfied: MarkupSafe>=0.23 in /usr/local/lib/python3.7/dist-packages (from jinja2->altair>=3.2.0->streamlit) (2.0.1)\n",
            "Requirement already satisfied: idna<3,>=2.5 in /usr/local/lib/python3.7/dist-packages (from requests>=2.4->streamlit) (2.10)\n",
            "Requirement already satisfied: chardet<4,>=3.0.2 in /usr/local/lib/python3.7/dist-packages (from requests>=2.4->streamlit) (3.0.4)\n",
            "Requirement already satisfied: certifi>=2017.4.17 in /usr/local/lib/python3.7/dist-packages (from requests>=2.4->streamlit) (2022.6.15)\n",
            "Requirement already satisfied: urllib3!=1.25.0,!=1.25.1,<1.26,>=1.21.1 in /usr/local/lib/python3.7/dist-packages (from requests>=2.4->streamlit) (1.24.3)\n",
            "Collecting commonmark<0.10.0,>=0.9.0\n",
            "  Downloading commonmark-0.9.1-py2.py3-none-any.whl (51 kB)\n",
            "\u001b[K     |████████████████████████████████| 51 kB 5.8 MB/s \n",
            "\u001b[?25hRequirement already satisfied: pygments<3.0.0,>=2.6.0 in /usr/local/lib/python3.7/dist-packages (from rich>=10.11.0->streamlit) (2.6.1)\n",
            "Requirement already satisfied: decorator>=3.4.0 in /usr/local/lib/python3.7/dist-packages (from validators>=0.2->streamlit) (4.4.2)\n",
            "Building wheels for collected packages: validators\n",
            "  Building wheel for validators (setup.py) ... \u001b[?25l\u001b[?25hdone\n",
            "  Created wheel for validators: filename=validators-0.20.0-py3-none-any.whl size=19582 sha256=f074227db301fc7e1c5c33784ec0fe058e7600edb00a15d1dca199af5c5c64e3\n",
            "  Stored in directory: /root/.cache/pip/wheels/5f/55/ab/36a76989f7f88d9ca7b1f68da6d94252bb6a8d6ad4f18e04e9\n",
            "Successfully built validators\n",
            "Installing collected packages: smmap, gitdb, commonmark, watchdog, validators, semver, rich, pympler, pydeck, gitpython, blinker, streamlit\n",
            "Successfully installed blinker-1.5 commonmark-0.9.1 gitdb-4.0.9 gitpython-3.1.27 pydeck-0.8.0b1 pympler-1.0.1 rich-12.5.1 semver-2.13.0 smmap-5.0.0 streamlit-1.12.2 validators-0.20.0 watchdog-2.1.9\n"
          ]
        }
      ]
    },
    {
      "cell_type": "code",
      "source": [
        "!pip install pyngrok"
      ],
      "metadata": {
        "colab": {
          "base_uri": "https://localhost:8080/"
        },
        "id": "xya72mqw0U7u",
        "outputId": "7550e090-ad47-45ae-f848-fcff85764718"
      },
      "execution_count": null,
      "outputs": [
        {
          "output_type": "stream",
          "name": "stdout",
          "text": [
            "Looking in indexes: https://pypi.org/simple, https://us-python.pkg.dev/colab-wheels/public/simple/\n",
            "Collecting pyngrok\n",
            "  Downloading pyngrok-5.1.0.tar.gz (745 kB)\n",
            "\u001b[K     |████████████████████████████████| 745 kB 7.5 MB/s \n",
            "\u001b[?25hRequirement already satisfied: PyYAML in /usr/local/lib/python3.7/dist-packages (from pyngrok) (6.0)\n",
            "Building wheels for collected packages: pyngrok\n",
            "  Building wheel for pyngrok (setup.py) ... \u001b[?25l\u001b[?25hdone\n",
            "  Created wheel for pyngrok: filename=pyngrok-5.1.0-py3-none-any.whl size=19007 sha256=3f365f15a7689709c4cfd33e6c4ac3b3873816c3dfdd0311e9d7f50a3ebd1ef8\n",
            "  Stored in directory: /root/.cache/pip/wheels/bf/e6/af/ccf6598ecefecd44104069371795cb9b3afbcd16987f6ccfb3\n",
            "Successfully built pyngrok\n",
            "Installing collected packages: pyngrok\n",
            "Successfully installed pyngrok-5.1.0\n"
          ]
        }
      ]
    },
    {
      "cell_type": "code",
      "source": [
        "import tensorflow\n",
        "from tensorflow.keras.preprocessing import image\n",
        "from tensorflow.keras.layers import GlobalMaxPooling2D\n",
        "from tensorflow.keras.applications.resnet50 import ResNet50,preprocess_input\n",
        "import numpy as np\n",
        "from numpy.linalg import norm\n",
        "import os\n",
        "from tqdm import tqdm\n",
        "import pickle\n",
        "from sklearn.neighbors import NearestNeighbors\n",
        "import cv2\n",
        "from google.colab.patches import cv2_imshow\n",
        "import streamlit as st\n",
        "from PIL import Image\n",
        "from pyngrok import ngrok\n",
        "import streamlit as st"
      ],
      "metadata": {
        "id": "L0g-HuDQ1U61"
      },
      "execution_count": null,
      "outputs": []
    },
    {
      "cell_type": "code",
      "source": [
        "%%writefile app.py\n",
        "import tensorflow\n",
        "from tensorflow.keras.preprocessing import image\n",
        "from tensorflow.keras.layers import GlobalMaxPooling2D\n",
        "from tensorflow.keras.applications.resnet50 import ResNet50,preprocess_input\n",
        "import numpy as np\n",
        "from numpy.linalg import norm\n",
        "import os\n",
        "from tqdm import tqdm\n",
        "import pickle\n",
        "from sklearn.neighbors import NearestNeighbors\n",
        "import cv2\n",
        "from google.colab.patches import cv2_imshow\n",
        "import streamlit as st\n",
        "from PIL import Image\n",
        "from pyngrok import ngrok\n",
        "import streamlit as st\n",
        "from PIL import ImageFile\n",
        "ImageFile.LOAD_TRUNCATED_IMAGES = True\n",
        "\n",
        "hide_menu_style =\"\"\"\n",
        "          <style>\n",
        "          #MainMenu {visibility : hidden ; }\n",
        "          footer {visibility : hidden ; }\n",
        "          </style>\n",
        "          \"\"\"\n",
        "st.markdown(hide_menu_style, unsafe_allow_html=True)\n",
        "\n",
        "model = ResNet50(weights='imagenet',include_top=False,input_shape=(224,224,3))\n",
        "model.trainable = False\n",
        "\n",
        "model = tensorflow.keras.Sequential([\n",
        "    model,\n",
        "    GlobalMaxPooling2D()\n",
        "])\n",
        "\n",
        "def extract_features(img_path,model):\n",
        "    img = image.load_img(img_path,target_size=(224,224))\n",
        "    img_array = image.img_to_array(img)\n",
        "    expanded_img_array = np.expand_dims(img_array, axis=0)\n",
        "    preprocessed_img = preprocess_input(expanded_img_array)\n",
        "    result = model.predict(preprocessed_img).flatten()\n",
        "    normalized_result = result / norm(result)\n",
        "\n",
        "    return normalized_result\n",
        "\n",
        "filenames = []\n",
        "\n",
        "for file in os.listdir('/content/drive/MyDrive/Train_images'):\n",
        "    filenames.append(os.path.join('/content/drive/MyDrive/Train_images',file))\n",
        "\n",
        "feature_list = []\n",
        "\n",
        "for file in tqdm(filenames):\n",
        "    feature_list.append(extract_features(file,model))\n",
        "\n",
        "pickle.dump(feature_list,open('embeddings.pkl','wb'))\n",
        "pickle.dump(filenames,open('filenames.pkl','wb'))\n",
        "\n",
        "\n",
        "feature_list = np.array(pickle.load(open('/content/embeddings.pkl','rb')))\n",
        "filenames = pickle.load(open('/content/filenames.pkl','rb'))\n",
        "\n",
        "\n",
        "def feature_extraction(img_path,model):\n",
        "    img = image.load_img(img_path, target_size=(224, 224))\n",
        "    img_array = image.img_to_array(img)\n",
        "    expanded_img_array = np.expand_dims(img_array, axis=0)\n",
        "    preprocessed_img = preprocess_input(expanded_img_array)\n",
        "    result = model.predict(preprocessed_img).flatten()\n",
        "    normalized_result = result / norm(result)\n",
        "\n",
        "    return normalized_result\n",
        "\n",
        "def recommend(features,feature_list):\n",
        "    neighbors = NearestNeighbors(n_neighbors=6\n",
        "    , algorithm='brute', metric='euclidean')\n",
        "    neighbors.fit(feature_list)\n",
        "\n",
        "    distances, indices = neighbors.kneighbors([features])\n",
        "\n",
        "    return indices\n",
        "\n",
        "original_title = '<p style=\"font-family:Bodoni MT Black; color:Black;text-align: center; font-size: 35px;\"><strong>Pesonalised Fashion Recommendention System</strong></p>'\n",
        "st.markdown(original_title, unsafe_allow_html=True)\n",
        "\n",
        "def add_bg_from_url():\n",
        "    st.markdown(\n",
        "         f\"\"\"\n",
        "         <style>\n",
        "         .stApp {{\n",
        "             background-image: url(\"https://cdn.pixabay.com/photo/2016/11/22/21/57/apparel-1850804_1280.jpg\");\n",
        "             background-attachment: fixed;\n",
        "             background-size: cover;\n",
        "         }}\n",
        "         </style>\n",
        "         \"\"\",\n",
        "         unsafe_allow_html=True\n",
        "     )\n",
        "\n",
        "add_bg_from_url() \n",
        "\n",
        "def save_uploaded_file(uploaded_file):\n",
        "    try:\n",
        "        with open(os.path.join('/content/Up',uploaded_file.name),'wb') as f:\n",
        "            f.write(uploaded_file.getbuffer())\n",
        "        return 1\n",
        "    except:\n",
        "        return 0\n",
        "\n",
        "uploaded_file = st.file_uploader(\"Choose an image to search\")\n",
        "if uploaded_file is not None:\n",
        "    if save_uploaded_file(uploaded_file):\n",
        "        # display the file\n",
        "        display_image = Image.open(uploaded_file)\n",
        "        st.image(display_image,width = 300,use_column_width=300, output_format=\"auto\",caption =\"Uploaded Image\")\n",
        "        # feature extract\n",
        "        features = feature_extraction(os.path.join(\"/content/Up\",uploaded_file.name),model)\n",
        "        #st.text(features)\n",
        "        # recommendention\n",
        "        indices = recommend(features,feature_list)\n",
        "        # show\n",
        "        col1,col2,col3,col4,col5 = st.columns(5)\n",
        "\n",
        "        with col1:\n",
        "            st.image(filenames[indices[0][0]])\n",
        "        with col2:\n",
        "            st.image(filenames[indices[0][1]])\n",
        "        with col3:\n",
        "            st.image(filenames[indices[0][2]])\n",
        "        with col4:\n",
        "            st.image(filenames[indices[0][3]])\n",
        "        with col5:\n",
        "            st.image(filenames[indices[0][4]])\n",
        "        \n",
        "    else:\n",
        "        st.header(\"Some error occured in file upload\")"
      ],
      "metadata": {
        "colab": {
          "base_uri": "https://localhost:8080/"
        },
        "id": "JPoRxOAMUhWN",
        "outputId": "74be664b-0943-4730-f1ee-a3a08bc996c1"
      },
      "execution_count": null,
      "outputs": [
        {
          "output_type": "stream",
          "name": "stdout",
          "text": [
            "Overwriting app.py\n"
          ]
        }
      ]
    },
    {
      "cell_type": "code",
      "source": [
        "ngrok.set_auth_token(\"2Dk41YkP0EZZI4KUbnnO7tnZXuq_5rHzfpPvho1v1D1gozYZq\")"
      ],
      "metadata": {
        "colab": {
          "base_uri": "https://localhost:8080/"
        },
        "id": "mPB--sAV0Cqy",
        "outputId": "8ae3f009-d8c5-4bbf-b9e3-c120a08f35f4"
      },
      "execution_count": null,
      "outputs": [
        {
          "output_type": "stream",
          "name": "stdout",
          "text": []
        },
        {
          "output_type": "stream",
          "name": "stderr",
          "text": [
            "INFO:pyngrok.process:Updating authtoken for default \"config_path\" of \"ngrok_path\": /usr/local/lib/python3.7/dist-packages/pyngrok/bin/ngrok\n",
            "2022-08-31 12:52:13.164 INFO    pyngrok.process: Updating authtoken for default \"config_path\" of \"ngrok_path\": /usr/local/lib/python3.7/dist-packages/pyngrok/bin/ngrok\n"
          ]
        }
      ]
    },
    {
      "cell_type": "code",
      "source": [
        "!nohup streamlit run app.py --server.port 80 &\n",
        "url = ngrok.connect(port = '80')\n",
        "print(url)"
      ],
      "metadata": {
        "colab": {
          "base_uri": "https://localhost:8080/"
        },
        "id": "ufqET18Z0CtS",
        "outputId": "6899d071-3804-4ea9-ad44-0e1ea823c8ce"
      },
      "execution_count": null,
      "outputs": [
        {
          "output_type": "stream",
          "name": "stdout",
          "text": [
            "nohup: appending output to 'nohup.out'\n"
          ]
        },
        {
          "output_type": "stream",
          "name": "stderr",
          "text": [
            "INFO:pyngrok.ngrok:Opening tunnel named: http-80-ce8a9829-a802-42e1-887a-0cd792388fe6\n",
            "2022-08-31 12:52:17.514 INFO    pyngrok.ngrok: Opening tunnel named: http-80-ce8a9829-a802-42e1-887a-0cd792388fe6\n",
            "INFO:pyngrok.process.ngrok:t=2022-08-31T12:52:17+0000 lvl=info msg=\"no configuration paths supplied\"\n",
            "2022-08-31 12:52:17.632 INFO    pyngrok.process.ngrok: t=2022-08-31T12:52:17+0000 lvl=info msg=\"no configuration paths supplied\"\n",
            "INFO:pyngrok.process.ngrok:t=2022-08-31T12:52:17+0000 lvl=info msg=\"using configuration at default config path\" path=/root/.ngrok2/ngrok.yml\n",
            "2022-08-31 12:52:17.645 INFO    pyngrok.process.ngrok: t=2022-08-31T12:52:17+0000 lvl=info msg=\"using configuration at default config path\" path=/root/.ngrok2/ngrok.yml\n",
            "INFO:pyngrok.process.ngrok:t=2022-08-31T12:52:17+0000 lvl=info msg=\"open config file\" path=/root/.ngrok2/ngrok.yml err=nil\n",
            "2022-08-31 12:52:17.655 INFO    pyngrok.process.ngrok: t=2022-08-31T12:52:17+0000 lvl=info msg=\"open config file\" path=/root/.ngrok2/ngrok.yml err=nil\n",
            "INFO:pyngrok.process.ngrok:t=2022-08-31T12:52:17+0000 lvl=info msg=\"starting web service\" obj=web addr=127.0.0.1:4040\n",
            "2022-08-31 12:52:17.680 INFO    pyngrok.process.ngrok: t=2022-08-31T12:52:17+0000 lvl=info msg=\"starting web service\" obj=web addr=127.0.0.1:4040\n",
            "INFO:pyngrok.process.ngrok:t=2022-08-31T12:52:17+0000 lvl=info msg=\"tunnel session started\" obj=tunnels.session\n",
            "2022-08-31 12:52:17.876 INFO    pyngrok.process.ngrok: t=2022-08-31T12:52:17+0000 lvl=info msg=\"tunnel session started\" obj=tunnels.session\n",
            "INFO:pyngrok.process.ngrok:t=2022-08-31T12:52:17+0000 lvl=info msg=\"client session established\" obj=csess id=fde371a9fa2c\n",
            "2022-08-31 12:52:17.885 INFO    pyngrok.process.ngrok: t=2022-08-31T12:52:17+0000 lvl=info msg=\"client session established\" obj=csess id=fde371a9fa2c\n",
            "INFO:pyngrok.process.ngrok:t=2022-08-31T12:52:17+0000 lvl=info msg=start pg=/api/tunnels id=76e3ee3538d6f523\n",
            "2022-08-31 12:52:17.907 INFO    pyngrok.process.ngrok: t=2022-08-31T12:52:17+0000 lvl=info msg=start pg=/api/tunnels id=76e3ee3538d6f523\n",
            "INFO:pyngrok.process.ngrok:t=2022-08-31T12:52:17+0000 lvl=info msg=end pg=/api/tunnels id=76e3ee3538d6f523 status=200 dur=426.692µs\n",
            "2022-08-31 12:52:17.920 INFO    pyngrok.process.ngrok: t=2022-08-31T12:52:17+0000 lvl=info msg=end pg=/api/tunnels id=76e3ee3538d6f523 status=200 dur=426.692µs\n",
            "INFO:pyngrok.process.ngrok:t=2022-08-31T12:52:17+0000 lvl=info msg=start pg=/api/tunnels id=403612e731dbd759\n",
            "2022-08-31 12:52:17.929 INFO    pyngrok.process.ngrok: t=2022-08-31T12:52:17+0000 lvl=info msg=start pg=/api/tunnels id=403612e731dbd759\n",
            "INFO:pyngrok.process.ngrok:t=2022-08-31T12:52:17+0000 lvl=info msg=end pg=/api/tunnels id=403612e731dbd759 status=200 dur=176.092µs\n",
            "2022-08-31 12:52:17.940 INFO    pyngrok.process.ngrok: t=2022-08-31T12:52:17+0000 lvl=info msg=end pg=/api/tunnels id=403612e731dbd759 status=200 dur=176.092µs\n",
            "INFO:pyngrok.process.ngrok:t=2022-08-31T12:52:17+0000 lvl=info msg=start pg=/api/tunnels id=1fdf23addf7c6d5a\n",
            "2022-08-31 12:52:17.953 INFO    pyngrok.process.ngrok: t=2022-08-31T12:52:17+0000 lvl=info msg=start pg=/api/tunnels id=1fdf23addf7c6d5a\n",
            "INFO:pyngrok.process.ngrok:t=2022-08-31T12:52:18+0000 lvl=info msg=\"started tunnel\" obj=tunnels name=\"http-80-ce8a9829-a802-42e1-887a-0cd792388fe6 (http)\" addr=http://localhost:80 url=http://369b-35-247-111-236.ngrok.io\n"
          ]
        },
        {
          "output_type": "stream",
          "name": "stdout",
          "text": [
            "NgrokTunnel: \"http://369b-35-247-111-236.ngrok.io\" -> \"http://localhost:80\"\n"
          ]
        },
        {
          "output_type": "stream",
          "name": "stderr",
          "text": [
            "2022-08-31 12:52:18.065 INFO    pyngrok.process.ngrok: t=2022-08-31T12:52:18+0000 lvl=info msg=\"started tunnel\" obj=tunnels name=\"http-80-ce8a9829-a802-42e1-887a-0cd792388fe6 (http)\" addr=http://localhost:80 url=http://369b-35-247-111-236.ngrok.io\n",
            "INFO:pyngrok.process.ngrok:t=2022-08-31T12:52:18+0000 lvl=info msg=\"started tunnel\" obj=tunnels name=http-80-ce8a9829-a802-42e1-887a-0cd792388fe6 addr=http://localhost:80 url=https://369b-35-247-111-236.ngrok.io\n",
            "2022-08-31 12:52:18.076 INFO    pyngrok.process.ngrok: t=2022-08-31T12:52:18+0000 lvl=info msg=\"started tunnel\" obj=tunnels name=http-80-ce8a9829-a802-42e1-887a-0cd792388fe6 addr=http://localhost:80 url=https://369b-35-247-111-236.ngrok.io\n",
            "INFO:pyngrok.process.ngrok:t=2022-08-31T12:52:18+0000 lvl=info msg=end pg=/api/tunnels id=1fdf23addf7c6d5a status=201 dur=152.783435ms\n",
            "2022-08-31 12:52:18.097 INFO    pyngrok.process.ngrok: t=2022-08-31T12:52:18+0000 lvl=info msg=end pg=/api/tunnels id=1fdf23addf7c6d5a status=201 dur=152.783435ms\n",
            "INFO:pyngrok.process.ngrok:t=2022-08-31T12:52:18+0000 lvl=info msg=start pg=\"/api/tunnels/http-80-ce8a9829-a802-42e1-887a-0cd792388fe6 (http)\" id=55d7aaa49bf77fc3\n",
            "2022-08-31 12:52:18.119 INFO    pyngrok.process.ngrok: t=2022-08-31T12:52:18+0000 lvl=info msg=start pg=\"/api/tunnels/http-80-ce8a9829-a802-42e1-887a-0cd792388fe6 (http)\" id=55d7aaa49bf77fc3\n",
            "INFO:pyngrok.process.ngrok:t=2022-08-31T12:52:18+0000 lvl=info msg=end pg=\"/api/tunnels/http-80-ce8a9829-a802-42e1-887a-0cd792388fe6 (http)\" id=55d7aaa49bf77fc3 status=200 dur=202.544µs\n",
            "2022-08-31 12:52:18.135 INFO    pyngrok.process.ngrok: t=2022-08-31T12:52:18+0000 lvl=info msg=end pg=\"/api/tunnels/http-80-ce8a9829-a802-42e1-887a-0cd792388fe6 (http)\" id=55d7aaa49bf77fc3 status=200 dur=202.544µs\n"
          ]
        }
      ]
    },
    {
      "cell_type": "code",
      "source": [],
      "metadata": {
        "id": "OLdwbFHS0Cwq"
      },
      "execution_count": null,
      "outputs": []
    },
    {
      "cell_type": "code",
      "source": [],
      "metadata": {
        "id": "TymRWSEq0C5j"
      },
      "execution_count": null,
      "outputs": []
    },
    {
      "cell_type": "code",
      "source": [],
      "metadata": {
        "id": "sFrBOfC80C9E"
      },
      "execution_count": null,
      "outputs": []
    }
  ]
}